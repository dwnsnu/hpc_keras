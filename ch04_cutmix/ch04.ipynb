{
 "cells": [
  {
   "cell_type": "markdown",
   "id": "c5aba421",
   "metadata": {},
   "source": [
    "#### https://keras.io/examples/vision/cutmix/"
   ]
  },
  {
   "cell_type": "code",
   "execution_count": 1,
   "id": "83a673c0",
   "metadata": {},
   "outputs": [
    {
     "name": "stderr",
     "output_type": "stream",
     "text": [
      "2023-08-22 05:51:58.320174: I tensorflow/core/platform/cpu_feature_guard.cc:183] This TensorFlow binary is optimized to use available CPU instructions in performance-critical operations.\n",
      "To enable the following instructions: SSE3 SSE4.1 SSE4.2 AVX, in other operations, rebuild TensorFlow with the appropriate compiler flags.\n"
     ]
    }
   ],
   "source": [
    "import numpy as np\n",
    "import pandas as pd\n",
    "import matplotlib.pyplot as plt\n",
    "import tensorflow as tf\n",
    "from tensorflow import keras\n",
    "\n",
    "np.random.seed(42)\n",
    "tf.random.set_seed(42)"
   ]
  },
  {
   "cell_type": "code",
   "execution_count": 2,
   "id": "b132d9d8",
   "metadata": {},
   "outputs": [
    {
     "name": "stdout",
     "output_type": "stream",
     "text": [
      "Downloading data from https://www.cs.toronto.edu/~kriz/cifar-10-python.tar.gz\n",
      "170498071/170498071 [==============================] - 30s 0us/step\n",
      "(50000, 32, 32, 3)\n",
      "(50000, 10)\n",
      "(10000, 32, 32, 3)\n",
      "(10000, 10)\n"
     ]
    }
   ],
   "source": [
    "(x_train, y_train), (x_test, y_test) = tf.keras.datasets.cifar10.load_data()\n",
    "y_train = tf.keras.utils.to_categorical(y_train, num_classes=10)\n",
    "y_test = tf.keras.utils.to_categorical(y_test, num_classes=10)\n",
    "\n",
    "print(x_train.shape)\n",
    "print(y_train.shape)\n",
    "print(x_test.shape)\n",
    "print(y_test.shape)\n",
    "\n",
    "class_names = [\n",
    "    \"Airplane\",\n",
    "    \"Automobile\",\n",
    "    \"Bird\",\n",
    "    \"Cat\",\n",
    "    \"Deer\",\n",
    "    \"Dog\",\n",
    "    \"Frog\",\n",
    "    \"Horse\",\n",
    "    \"Ship\",\n",
    "    \"Truck\",\n",
    "]"
   ]
  },
  {
   "cell_type": "code",
   "execution_count": 3,
   "id": "cc2f25ac",
   "metadata": {},
   "outputs": [],
   "source": [
    "AUTO = tf.data.AUTOTUNE\n",
    "BATCH_SIZE = 32\n",
    "IMG_SIZE = 32"
   ]
  },
  {
   "cell_type": "code",
   "execution_count": 4,
   "id": "dc0c6dac",
   "metadata": {},
   "outputs": [],
   "source": [
    "\n",
    "def preprocess_image(image, label):\n",
    "    image = tf.image.resize(image, (IMG_SIZE, IMG_SIZE))\n",
    "    image = tf.image.convert_image_dtype(image, tf.float32) / 255.0\n",
    "    return image, label\n"
   ]
  },
  {
   "cell_type": "code",
   "execution_count": 5,
   "id": "3bd9612b",
   "metadata": {},
   "outputs": [
    {
     "name": "stderr",
     "output_type": "stream",
     "text": [
      "2023-08-22 05:52:36.809187: I tensorflow/core/common_runtime/gpu/gpu_device.cc:1638] Created device /job:localhost/replica:0/task:0/device:GPU:0 with 1134 MB memory:  -> device: 0, name: NVIDIA A100-SXM4-40GB, pci bus id: 0000:0f:00.0, compute capability: 8.0\n"
     ]
    }
   ],
   "source": [
    "train_ds_one = (\n",
    "    tf.data.Dataset.from_tensor_slices((x_train, y_train))\n",
    "    .shuffle(1024)\n",
    "    .map(preprocess_image, num_parallel_calls=AUTO)\n",
    ")\n",
    "train_ds_two = (\n",
    "    tf.data.Dataset.from_tensor_slices((x_train, y_train))\n",
    "    .shuffle(1024)\n",
    "    .map(preprocess_image, num_parallel_calls=AUTO)\n",
    ")\n",
    "\n",
    "train_ds_simple = tf.data.Dataset.from_tensor_slices((x_train, y_train))\n",
    "\n",
    "test_ds = tf.data.Dataset.from_tensor_slices((x_test, y_test))\n",
    "\n",
    "train_ds_simple = (\n",
    "    train_ds_simple.map(preprocess_image, num_parallel_calls=AUTO)\n",
    "    .batch(BATCH_SIZE)\n",
    "    .prefetch(AUTO)\n",
    ")\n",
    "\n",
    "# Combine two shuffled datasets from the same training data.\n",
    "train_ds = tf.data.Dataset.zip((train_ds_one, train_ds_two))\n",
    "\n",
    "test_ds = (\n",
    "    test_ds.map(preprocess_image, num_parallel_calls=AUTO)\n",
    "    .batch(BATCH_SIZE)\n",
    "    .prefetch(AUTO)\n",
    ")"
   ]
  },
  {
   "cell_type": "code",
   "execution_count": 6,
   "id": "4ba76e13",
   "metadata": {},
   "outputs": [],
   "source": [
    "\n",
    "def sample_beta_distribution(size, concentration_0=0.2, concentration_1=0.2):\n",
    "    gamma_1_sample = tf.random.gamma(shape=[size], alpha=concentration_1)\n",
    "    gamma_2_sample = tf.random.gamma(shape=[size], alpha=concentration_0)\n",
    "    return gamma_1_sample / (gamma_1_sample + gamma_2_sample)\n",
    "\n",
    "\n",
    "@tf.function\n",
    "def get_box(lambda_value):\n",
    "    cut_rat = tf.math.sqrt(1.0 - lambda_value)\n",
    "\n",
    "    cut_w = IMG_SIZE * cut_rat  # rw\n",
    "    cut_w = tf.cast(cut_w, tf.int32)\n",
    "\n",
    "    cut_h = IMG_SIZE * cut_rat  # rh\n",
    "    cut_h = tf.cast(cut_h, tf.int32)\n",
    "\n",
    "    cut_x = tf.random.uniform((1,), minval=0, maxval=IMG_SIZE, dtype=tf.int32)  # rx\n",
    "    cut_y = tf.random.uniform((1,), minval=0, maxval=IMG_SIZE, dtype=tf.int32)  # ry\n",
    "\n",
    "    boundaryx1 = tf.clip_by_value(cut_x[0] - cut_w // 2, 0, IMG_SIZE)\n",
    "    boundaryy1 = tf.clip_by_value(cut_y[0] - cut_h // 2, 0, IMG_SIZE)\n",
    "    bbx2 = tf.clip_by_value(cut_x[0] + cut_w // 2, 0, IMG_SIZE)\n",
    "    bby2 = tf.clip_by_value(cut_y[0] + cut_h // 2, 0, IMG_SIZE)\n",
    "\n",
    "    target_h = bby2 - boundaryy1\n",
    "    if target_h == 0:\n",
    "        target_h += 1\n",
    "\n",
    "    target_w = bbx2 - boundaryx1\n",
    "    if target_w == 0:\n",
    "        target_w += 1\n",
    "\n",
    "    return boundaryx1, boundaryy1, target_h, target_w\n",
    "\n",
    "\n",
    "@tf.function\n",
    "def cutmix(train_ds_one, train_ds_two):\n",
    "    (image1, label1), (image2, label2) = train_ds_one, train_ds_two\n",
    "\n",
    "    alpha = [0.25]\n",
    "    beta = [0.25]\n",
    "\n",
    "    # Get a sample from the Beta distribution\n",
    "    lambda_value = sample_beta_distribution(1, alpha, beta)\n",
    "\n",
    "    # Define Lambda\n",
    "    lambda_value = lambda_value[0][0]\n",
    "\n",
    "    # Get the bounding box offsets, heights and widths\n",
    "    boundaryx1, boundaryy1, target_h, target_w = get_box(lambda_value)\n",
    "\n",
    "    # Get a patch from the second image (`image2`)\n",
    "    crop2 = tf.image.crop_to_bounding_box(\n",
    "        image2, boundaryy1, boundaryx1, target_h, target_w\n",
    "    )\n",
    "    # Pad the `image2` patch (`crop2`) with the same offset\n",
    "    image2 = tf.image.pad_to_bounding_box(\n",
    "        crop2, boundaryy1, boundaryx1, IMG_SIZE, IMG_SIZE\n",
    "    )\n",
    "    # Get a patch from the first image (`image1`)\n",
    "    crop1 = tf.image.crop_to_bounding_box(\n",
    "        image1, boundaryy1, boundaryx1, target_h, target_w\n",
    "    )\n",
    "    # Pad the `image1` patch (`crop1`) with the same offset\n",
    "    img1 = tf.image.pad_to_bounding_box(\n",
    "        crop1, boundaryy1, boundaryx1, IMG_SIZE, IMG_SIZE\n",
    "    )\n",
    "\n",
    "    # Modify the first image by subtracting the patch from `image1`\n",
    "    # (before applying the `image2` patch)\n",
    "    image1 = image1 - img1\n",
    "    # Add the modified `image1` and `image2`  together to get the CutMix image\n",
    "    image = image1 + image2\n",
    "\n",
    "    # Adjust Lambda in accordance to the pixel ration\n",
    "    lambda_value = 1 - (target_w * target_h) / (IMG_SIZE * IMG_SIZE)\n",
    "    lambda_value = tf.cast(lambda_value, tf.float32)\n",
    "\n",
    "    # Combine the labels of both images\n",
    "    label = lambda_value * label1 + (1 - lambda_value) * label2\n",
    "    return image, label\n"
   ]
  },
  {
   "cell_type": "code",
   "execution_count": 7,
   "id": "6c0fde00",
   "metadata": {},
   "outputs": [
    {
     "name": "stderr",
     "output_type": "stream",
     "text": [
      "2023-08-22 05:53:14.861015: I tensorflow/core/common_runtime/executor.cc:1209] [/device:CPU:0] (DEBUG INFO) Executor start aborting (this does not indicate an error and you can ignore this message): INVALID_ARGUMENT: You must feed a value for placeholder tensor 'Placeholder/_10' with dtype uint8 and shape [50000,32,32,3]\n",
      "\t [[{{node Placeholder/_10}}]]\n",
      "2023-08-22 05:53:14.861475: I tensorflow/core/common_runtime/executor.cc:1209] [/device:CPU:0] (DEBUG INFO) Executor start aborting (this does not indicate an error and you can ignore this message): INVALID_ARGUMENT: You must feed a value for placeholder tensor 'Placeholder/_1' with dtype float and shape [50000,10]\n",
      "\t [[{{node Placeholder/_1}}]]\n"
     ]
    },
    {
     "data": {
      "image/png": "[encoded data removed]",
      "text/plain": [
       "<Figure size 1000x1000 with 9 Axes>"
      ]
     },
     "metadata": {},
     "output_type": "display_data"
    }
   ],
   "source": [
    "# Create the new dataset using our `cutmix` utility\n",
    "train_ds_cmu = (\n",
    "    train_ds.shuffle(1024)\n",
    "    .map(cutmix, num_parallel_calls=AUTO)\n",
    "    .batch(BATCH_SIZE)\n",
    "    .prefetch(AUTO)\n",
    ")\n",
    "\n",
    "# Let's preview 9 samples from the dataset\n",
    "image_batch, label_batch = next(iter(train_ds_cmu))\n",
    "plt.figure(figsize=(10, 10))\n",
    "for i in range(9):\n",
    "    ax = plt.subplot(3, 3, i + 1)\n",
    "    plt.title(class_names[np.argmax(label_batch[i])])\n",
    "    plt.imshow(image_batch[i])\n",
    "    plt.axis(\"off\")"
   ]
  },
  {
   "cell_type": "code",
   "execution_count": 8,
   "id": "5ca85327",
   "metadata": {},
   "outputs": [],
   "source": [
    "\n",
    "def resnet_layer(\n",
    "    inputs,\n",
    "    num_filters=16,\n",
    "    kernel_size=3,\n",
    "    strides=1,\n",
    "    activation=\"relu\",\n",
    "    batch_normalization=True,\n",
    "    conv_first=True,\n",
    "):\n",
    "    conv = keras.layers.Conv2D(\n",
    "        num_filters,\n",
    "        kernel_size=kernel_size,\n",
    "        strides=strides,\n",
    "        padding=\"same\",\n",
    "        kernel_initializer=\"he_normal\",\n",
    "        kernel_regularizer=keras.regularizers.l2(1e-4),\n",
    "    )\n",
    "    x = inputs\n",
    "    if conv_first:\n",
    "        x = conv(x)\n",
    "        if batch_normalization:\n",
    "            x = keras.layers.BatchNormalization()(x)\n",
    "        if activation is not None:\n",
    "            x = keras.layers.Activation(activation)(x)\n",
    "    else:\n",
    "        if batch_normalization:\n",
    "            x = keras.layers.BatchNormalization()(x)\n",
    "        if activation is not None:\n",
    "            x = keras.layers.Activation(activation)(x)\n",
    "        x = conv(x)\n",
    "    return x\n",
    "\n",
    "\n",
    "def resnet_v20(input_shape, depth, num_classes=10):\n",
    "    if (depth - 2) % 6 != 0:\n",
    "        raise ValueError(\"depth should be 6n+2 (eg 20, 32, 44 in [a])\")\n",
    "    # Start model definition.\n",
    "    num_filters = 16\n",
    "    num_res_blocks = int((depth - 2) / 6)\n",
    "\n",
    "    inputs = keras.layers.Input(shape=input_shape)\n",
    "    x = resnet_layer(inputs=inputs)\n",
    "    # Instantiate the stack of residual units\n",
    "    for stack in range(3):\n",
    "        for res_block in range(num_res_blocks):\n",
    "            strides = 1\n",
    "            if stack > 0 and res_block == 0:  # first layer but not first stack\n",
    "                strides = 2  # downsample\n",
    "            y = resnet_layer(inputs=x, num_filters=num_filters, strides=strides)\n",
    "            y = resnet_layer(inputs=y, num_filters=num_filters, activation=None)\n",
    "            if stack > 0 and res_block == 0:  # first layer but not first stack\n",
    "                # linear projection residual shortcut connection to match\n",
    "                # changed dims\n",
    "                x = resnet_layer(\n",
    "                    inputs=x,\n",
    "                    num_filters=num_filters,\n",
    "                    kernel_size=1,\n",
    "                    strides=strides,\n",
    "                    activation=None,\n",
    "                    batch_normalization=False,\n",
    "                )\n",
    "            x = keras.layers.add([x, y])\n",
    "            x = keras.layers.Activation(\"relu\")(x)\n",
    "        num_filters *= 2\n",
    "\n",
    "    # Add classifier on top.\n",
    "    # v1 does not use BN after last shortcut connection-ReLU\n",
    "    x = keras.layers.AveragePooling2D(pool_size=8)(x)\n",
    "    y = keras.layers.Flatten()(x)\n",
    "    outputs = keras.layers.Dense(\n",
    "        num_classes, activation=\"softmax\", kernel_initializer=\"he_normal\"\n",
    "    )(y)\n",
    "\n",
    "    # Instantiate model.\n",
    "    model = keras.models.Model(inputs=inputs, outputs=outputs)\n",
    "    return model\n",
    "\n",
    "\n",
    "def training_model():\n",
    "    return resnet_v20((32, 32, 3), 20)\n",
    "\n",
    "\n",
    "initial_model = training_model()\n",
    "initial_model.save_weights(\"initial_weights.h5\")"
   ]
  },
  {
   "cell_type": "code",
   "execution_count": 9,
   "id": "1cde2d8e",
   "metadata": {},
   "outputs": [
    {
     "name": "stdout",
     "output_type": "stream",
     "text": [
      "Epoch 1/15\n"
     ]
    },
    {
     "name": "stderr",
     "output_type": "stream",
     "text": [
      "2023-08-22 05:53:35.849708: I tensorflow/compiler/xla/stream_executor/cuda/cuda_dnn.cc:424] Loaded cuDNN version 8903\n",
      "2023-08-22 05:53:36.206643: I tensorflow/compiler/xla/stream_executor/cuda/cuda_blas.cc:655] TensorFloat-32 will be used for the matrix multiplication. This will only be logged once.\n",
      "2023-08-22 05:53:36.236170: I tensorflow/compiler/xla/service/service.cc:169] XLA service 0x7f00e90ac1a0 initialized for platform CUDA (this does not guarantee that XLA will be used). Devices:\n",
      "2023-08-22 05:53:36.236219: I tensorflow/compiler/xla/service/service.cc:177]   StreamExecutor device (0): NVIDIA A100-SXM4-40GB, Compute Capability 8.0\n",
      "2023-08-22 05:53:36.241772: I tensorflow/compiler/mlir/tensorflow/utils/dump_mlir_util.cc:269] disabling MLIR crash reproducer, set env var `MLIR_CRASH_REPRODUCER_DIRECTORY` to enable.\n",
      "2023-08-22 05:53:36.313452: I tensorflow/tsl/platform/default/subprocess.cc:304] Start cannot spawn child process: No such file or directory\n",
      "2023-08-22 05:53:36.377776: I ./tensorflow/compiler/jit/device_compiler.h:180] Compiled cluster using XLA!  This line is logged at most once for the lifetime of the process.\n"
     ]
    },
    {
     "name": "stdout",
     "output_type": "stream",
     "text": [
      "1563/1563 [==============================] - ETA: 0s - loss: 1.9368 - accuracy: 0.4014"
     ]
    },
    {
     "name": "stderr",
     "output_type": "stream",
     "text": [
      "2023-08-22 05:54:02.211610: I tensorflow/core/common_runtime/executor.cc:1209] [/device:CPU:0] (DEBUG INFO) Executor start aborting (this does not indicate an error and you can ignore this message): INVALID_ARGUMENT: You must feed a value for placeholder tensor 'Placeholder/_1' with dtype float and shape [10000,10]\n",
      "\t [[{{node Placeholder/_1}}]]\n",
      "2023-08-22 05:54:02.211893: I tensorflow/core/common_runtime/executor.cc:1209] [/device:CPU:0] (DEBUG INFO) Executor start aborting (this does not indicate an error and you can ignore this message): INVALID_ARGUMENT: You must feed a value for placeholder tensor 'Placeholder/_1' with dtype float and shape [10000,10]\n",
      "\t [[{{node Placeholder/_1}}]]\n"
     ]
    },
    {
     "name": "stdout",
     "output_type": "stream",
     "text": [
      "1563/1563 [==============================] - 31s 13ms/step - loss: 1.9368 - accuracy: 0.4014 - val_loss: 1.5386 - val_accuracy: 0.5055\n",
      "Epoch 2/15\n",
      "1563/1563 [==============================] - 19s 12ms/step - loss: 1.6831 - accuracy: 0.5215 - val_loss: 1.7554 - val_accuracy: 0.4635\n",
      "Epoch 3/15\n",
      "1563/1563 [==============================] - 19s 12ms/step - loss: 1.5683 - accuracy: 0.5765 - val_loss: 1.1548 - val_accuracy: 0.6515\n",
      "Epoch 4/15\n",
      "1563/1563 [==============================] - 18s 12ms/step - loss: 1.5004 - accuracy: 0.6056 - val_loss: 1.0748 - val_accuracy: 0.6973\n",
      "Epoch 5/15\n",
      "1563/1563 [==============================] - 18s 12ms/step - loss: 1.4492 - accuracy: 0.6287 - val_loss: 1.0330 - val_accuracy: 0.7056\n",
      "Epoch 6/15\n",
      "1563/1563 [==============================] - 19s 12ms/step - loss: 1.4205 - accuracy: 0.6455 - val_loss: 1.0713 - val_accuracy: 0.6887\n",
      "Epoch 7/15\n",
      "1563/1563 [==============================] - 19s 12ms/step - loss: 1.3913 - accuracy: 0.6584 - val_loss: 1.0416 - val_accuracy: 0.7101\n",
      "Epoch 8/15\n",
      "1563/1563 [==============================] - 18s 12ms/step - loss: 1.3714 - accuracy: 0.6671 - val_loss: 0.9547 - val_accuracy: 0.7276\n",
      "Epoch 9/15\n",
      "1563/1563 [==============================] - 19s 12ms/step - loss: 1.3553 - accuracy: 0.6791 - val_loss: 1.0948 - val_accuracy: 0.6880\n",
      "Epoch 10/15\n",
      "1563/1563 [==============================] - 18s 12ms/step - loss: 1.3437 - accuracy: 0.6856 - val_loss: 0.8976 - val_accuracy: 0.7587\n",
      "Epoch 11/15\n",
      "1563/1563 [==============================] - 19s 12ms/step - loss: 1.3287 - accuracy: 0.6932 - val_loss: 0.9818 - val_accuracy: 0.7204\n",
      "Epoch 12/15\n",
      "1563/1563 [==============================] - 19s 12ms/step - loss: 1.3135 - accuracy: 0.6999 - val_loss: 1.0175 - val_accuracy: 0.7246\n",
      "Epoch 13/15\n",
      "1563/1563 [==============================] - 19s 12ms/step - loss: 1.3105 - accuracy: 0.7005 - val_loss: 0.8538 - val_accuracy: 0.7736\n",
      "Epoch 14/15\n",
      "1563/1563 [==============================] - 18s 12ms/step - loss: 1.3002 - accuracy: 0.7063 - val_loss: 0.8150 - val_accuracy: 0.7804\n",
      "Epoch 15/15\n",
      "1563/1563 [==============================] - 19s 12ms/step - loss: 1.2893 - accuracy: 0.7112 - val_loss: 0.8674 - val_accuracy: 0.7763\n",
      "313/313 [==============================] - 1s 3ms/step - loss: 0.8674 - accuracy: 0.7763\n",
      "Test accuracy: 77.63%\n"
     ]
    }
   ],
   "source": [
    "model = training_model()\n",
    "model.load_weights(\"initial_weights.h5\")\n",
    "\n",
    "model.compile(loss=\"categorical_crossentropy\", optimizer=\"adam\", metrics=[\"accuracy\"])\n",
    "model.fit(train_ds_cmu, validation_data=test_ds, epochs=15)\n",
    "\n",
    "test_loss, test_accuracy = model.evaluate(test_ds)\n",
    "print(\"Test accuracy: {:.2f}%\".format(test_accuracy * 100))"
   ]
  },
  {
   "cell_type": "code",
   "execution_count": 10,
   "id": "c70ec7d2",
   "metadata": {},
   "outputs": [
    {
     "name": "stdout",
     "output_type": "stream",
     "text": [
      "Epoch 1/15\n"
     ]
    },
    {
     "name": "stderr",
     "output_type": "stream",
     "text": [
      "2023-08-22 05:58:28.011218: I tensorflow/core/common_runtime/executor.cc:1209] [/device:CPU:0] (DEBUG INFO) Executor start aborting (this does not indicate an error and you can ignore this message): INVALID_ARGUMENT: You must feed a value for placeholder tensor 'Placeholder/_1' with dtype float and shape [50000,10]\n",
      "\t [[{{node Placeholder/_1}}]]\n",
      "2023-08-22 05:58:28.011499: I tensorflow/core/common_runtime/executor.cc:1209] [/device:CPU:0] (DEBUG INFO) Executor start aborting (this does not indicate an error and you can ignore this message): INVALID_ARGUMENT: You must feed a value for placeholder tensor 'Placeholder/_1' with dtype float and shape [50000,10]\n",
      "\t [[{{node Placeholder/_1}}]]\n"
     ]
    },
    {
     "name": "stdout",
     "output_type": "stream",
     "text": [
      "1563/1563 [==============================] - 29s 12ms/step - loss: 1.5091 - accuracy: 0.5070 - val_loss: 1.7086 - val_accuracy: 0.4999\n",
      "Epoch 2/15\n",
      "1563/1563 [==============================] - 18s 11ms/step - loss: 1.0981 - accuracy: 0.6665 - val_loss: 1.1510 - val_accuracy: 0.6560\n",
      "Epoch 3/15\n",
      "1563/1563 [==============================] - 18s 12ms/step - loss: 0.9236 - accuracy: 0.7325 - val_loss: 0.9947 - val_accuracy: 0.7137\n",
      "Epoch 4/15\n",
      "1563/1563 [==============================] - 18s 12ms/step - loss: 0.8140 - accuracy: 0.7758 - val_loss: 1.0919 - val_accuracy: 0.7004\n",
      "Epoch 5/15\n",
      "1563/1563 [==============================] - 18s 12ms/step - loss: 0.7347 - accuracy: 0.8089 - val_loss: 1.0647 - val_accuracy: 0.7149\n",
      "Epoch 6/15\n",
      "1563/1563 [==============================] - 18s 12ms/step - loss: 0.6710 - accuracy: 0.8351 - val_loss: 1.6687 - val_accuracy: 0.5963\n",
      "Epoch 7/15\n",
      "1563/1563 [==============================] - 18s 12ms/step - loss: 0.6223 - accuracy: 0.8550 - val_loss: 1.3834 - val_accuracy: 0.6601\n",
      "Epoch 8/15\n",
      "1563/1563 [==============================] - 18s 12ms/step - loss: 0.5865 - accuracy: 0.8711 - val_loss: 1.7379 - val_accuracy: 0.6399\n",
      "Epoch 9/15\n",
      "1563/1563 [==============================] - 18s 12ms/step - loss: 0.5586 - accuracy: 0.8837 - val_loss: 1.5101 - val_accuracy: 0.6848\n",
      "Epoch 10/15\n",
      "1563/1563 [==============================] - 18s 11ms/step - loss: 0.5357 - accuracy: 0.8947 - val_loss: 2.5152 - val_accuracy: 0.5708\n",
      "Epoch 11/15\n",
      "1563/1563 [==============================] - 18s 11ms/step - loss: 0.5230 - accuracy: 0.9025 - val_loss: 1.8102 - val_accuracy: 0.6762\n",
      "Epoch 12/15\n",
      "1563/1563 [==============================] - 18s 12ms/step - loss: 0.5101 - accuracy: 0.9098 - val_loss: 1.5604 - val_accuracy: 0.6923\n",
      "Epoch 13/15\n",
      "1563/1563 [==============================] - 18s 11ms/step - loss: 0.4991 - accuracy: 0.9167 - val_loss: 2.3003 - val_accuracy: 0.6172\n",
      "Epoch 14/15\n",
      "1563/1563 [==============================] - 18s 11ms/step - loss: 0.4917 - accuracy: 0.9215 - val_loss: 1.9377 - val_accuracy: 0.6683\n",
      "Epoch 15/15\n",
      "1563/1563 [==============================] - 18s 12ms/step - loss: 0.4870 - accuracy: 0.9245 - val_loss: 1.9475 - val_accuracy: 0.6789\n",
      "313/313 [==============================] - 1s 3ms/step - loss: 1.9475 - accuracy: 0.6789\n",
      "Test accuracy: 67.89%\n"
     ]
    }
   ],
   "source": [
    "model = training_model()\n",
    "model.load_weights(\"initial_weights.h5\")\n",
    "model.compile(loss=\"categorical_crossentropy\", optimizer=\"adam\", metrics=[\"accuracy\"])\n",
    "model.fit(train_ds_simple, validation_data=test_ds, epochs=15)\n",
    "\n",
    "test_loss, test_accuracy = model.evaluate(test_ds)\n",
    "print(\"Test accuracy: {:.2f}%\".format(test_accuracy * 100))"
   ]
  },
  {
   "cell_type": "code",
   "execution_count": null,
   "id": "73e49812",
   "metadata": {},
   "outputs": [],
   "source": []
  }
 ],
 "metadata": {
  "kernelspec": {
   "display_name": "Python 3 (ipykernel)",
   "language": "python",
   "name": "python3"
  },
  "language_info": {
   "codemirror_mode": {
    "name": "ipython",
    "version": 3
   },
   "file_extension": ".py",
   "mimetype": "text/x-python",
   "name": "python",
   "nbconvert_exporter": "python",
   "pygments_lexer": "ipython3",
   "version": "3.10.6"
  }
 },
 "nbformat": 4,
 "nbformat_minor": 5
}
