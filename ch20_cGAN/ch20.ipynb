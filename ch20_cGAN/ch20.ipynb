{
 "cells": [
  {
   "cell_type": "code",
   "execution_count": 1,
   "id": "2e69d973",
   "metadata": {},
   "outputs": [
    {
     "name": "stdout",
     "output_type": "stream",
     "text": [
      "\u001b[33mWARNING: Running pip as the 'root' user can result in broken permissions and conflicting behaviour with the system package manager. It is recommended to use a virtual environment instead: https://pip.pypa.io/warnings/venv\u001b[0m\u001b[33m\n",
      "\u001b[0mRequirement already satisfied: imageio in /usr/local/lib/python3.10/dist-packages (2.31.1)\n",
      "Requirement already satisfied: numpy in /usr/local/lib/python3.10/dist-packages (from imageio) (1.22.2)\n",
      "Requirement already satisfied: pillow>=8.3.2 in /usr/local/lib/python3.10/dist-packages (from imageio) (9.5.0)\n",
      "\u001b[33mWARNING: Running pip as the 'root' user can result in broken permissions and conflicting behaviour with the system package manager. It is recommended to use a virtual environment instead: https://pip.pypa.io/warnings/venv\u001b[0m\u001b[33m\n",
      "\u001b[0m"
     ]
    }
   ],
   "source": [
    "!pip install -q git+https://github.com/tensorflow/docs\n",
    "!pip install imageio"
   ]
  },
  {
   "cell_type": "code",
   "execution_count": 2,
   "id": "1d652476",
   "metadata": {},
   "outputs": [
    {
     "name": "stderr",
     "output_type": "stream",
     "text": [
      "2023-08-24 02:41:05.144811: I tensorflow/core/platform/cpu_feature_guard.cc:183] This TensorFlow binary is optimized to use available CPU instructions in performance-critical operations.\n",
      "To enable the following instructions: SSE3 SSE4.1 SSE4.2 AVX, in other operations, rebuild TensorFlow with the appropriate compiler flags.\n"
     ]
    }
   ],
   "source": [
    "from tensorflow import keras\n",
    "from tensorflow.keras import layers\n",
    "\n",
    "from tensorflow_docs.vis import embed\n",
    "import tensorflow as tf\n",
    "import numpy as np\n",
    "import imageio"
   ]
  },
  {
   "cell_type": "code",
   "execution_count": 3,
   "id": "1277bedf",
   "metadata": {},
   "outputs": [],
   "source": [
    "batch_size = 64\n",
    "num_channels = 1\n",
    "num_classes = 10\n",
    "image_size = 28\n",
    "latent_dim = 128"
   ]
  },
  {
   "cell_type": "code",
   "execution_count": 4,
   "id": "4255d50d",
   "metadata": {},
   "outputs": [
    {
     "name": "stdout",
     "output_type": "stream",
     "text": [
      "Shape of training images: (70000, 28, 28, 1)\n",
      "Shape of training labels: (70000, 10)\n"
     ]
    },
    {
     "name": "stderr",
     "output_type": "stream",
     "text": [
      "2023-08-24 02:41:09.208552: I tensorflow/core/common_runtime/gpu/gpu_device.cc:1638] Created device /job:localhost/replica:0/task:0/device:GPU:0 with 38319 MB memory:  -> device: 0, name: NVIDIA A100-SXM4-40GB, pci bus id: 0000:87:00.0, compute capability: 8.0\n"
     ]
    }
   ],
   "source": [
    "# We'll use all the available examples from both the training and test\n",
    "# sets.\n",
    "(x_train, y_train), (x_test, y_test) = keras.datasets.mnist.load_data()\n",
    "all_digits = np.concatenate([x_train, x_test])\n",
    "all_labels = np.concatenate([y_train, y_test])\n",
    "\n",
    "# Scale the pixel values to [0, 1] range, add a channel dimension to\n",
    "# the images, and one-hot encode the labels.\n",
    "all_digits = all_digits.astype(\"float32\") / 255.0\n",
    "all_digits = np.reshape(all_digits, (-1, 28, 28, 1))\n",
    "all_labels = keras.utils.to_categorical(all_labels, 10)\n",
    "\n",
    "# Create tf.data.Dataset.\n",
    "dataset = tf.data.Dataset.from_tensor_slices((all_digits, all_labels))\n",
    "dataset = dataset.shuffle(buffer_size=1024).batch(batch_size)\n",
    "\n",
    "print(f\"Shape of training images: {all_digits.shape}\")\n",
    "print(f\"Shape of training labels: {all_labels.shape}\")"
   ]
  },
  {
   "cell_type": "code",
   "execution_count": 5,
   "id": "acc081b1",
   "metadata": {},
   "outputs": [
    {
     "name": "stdout",
     "output_type": "stream",
     "text": [
      "138 11\n"
     ]
    }
   ],
   "source": [
    "generator_in_channels = latent_dim + num_classes\n",
    "discriminator_in_channels = num_channels + num_classes\n",
    "print(generator_in_channels, discriminator_in_channels)"
   ]
  },
  {
   "cell_type": "code",
   "execution_count": 6,
   "id": "e30faf1e",
   "metadata": {},
   "outputs": [],
   "source": [
    "# Create the discriminator.\n",
    "discriminator = keras.Sequential(\n",
    "    [\n",
    "        keras.layers.InputLayer((28, 28, discriminator_in_channels)),\n",
    "        layers.Conv2D(64, (3, 3), strides=(2, 2), padding=\"same\"),\n",
    "        layers.LeakyReLU(alpha=0.2),\n",
    "        layers.Conv2D(128, (3, 3), strides=(2, 2), padding=\"same\"),\n",
    "        layers.LeakyReLU(alpha=0.2),\n",
    "        layers.GlobalMaxPooling2D(),\n",
    "        layers.Dense(1),\n",
    "    ],\n",
    "    name=\"discriminator\",\n",
    ")\n",
    "\n",
    "# Create the generator.\n",
    "generator = keras.Sequential(\n",
    "    [\n",
    "        keras.layers.InputLayer((generator_in_channels,)),\n",
    "        # We want to generate 128 + num_classes coefficients to reshape into a\n",
    "        # 7x7x(128 + num_classes) map.\n",
    "        layers.Dense(7 * 7 * generator_in_channels),\n",
    "        layers.LeakyReLU(alpha=0.2),\n",
    "        layers.Reshape((7, 7, generator_in_channels)),\n",
    "        layers.Conv2DTranspose(128, (4, 4), strides=(2, 2), padding=\"same\"),\n",
    "        layers.LeakyReLU(alpha=0.2),\n",
    "        layers.Conv2DTranspose(128, (4, 4), strides=(2, 2), padding=\"same\"),\n",
    "        layers.LeakyReLU(alpha=0.2),\n",
    "        layers.Conv2D(1, (7, 7), padding=\"same\", activation=\"sigmoid\"),\n",
    "    ],\n",
    "    name=\"generator\",\n",
    ")"
   ]
  },
  {
   "cell_type": "code",
   "execution_count": 7,
   "id": "11e07a66",
   "metadata": {},
   "outputs": [],
   "source": [
    "class ConditionalGAN(keras.Model):\n",
    "    def __init__(self, discriminator, generator, latent_dim):\n",
    "        super().__init__()\n",
    "        self.discriminator = discriminator\n",
    "        self.generator = generator\n",
    "        self.latent_dim = latent_dim\n",
    "        self.gen_loss_tracker = keras.metrics.Mean(name=\"generator_loss\")\n",
    "        self.disc_loss_tracker = keras.metrics.Mean(name=\"discriminator_loss\")\n",
    "\n",
    "    @property\n",
    "    def metrics(self):\n",
    "        return [self.gen_loss_tracker, self.disc_loss_tracker]\n",
    "\n",
    "    def compile(self, d_optimizer, g_optimizer, loss_fn):\n",
    "        super().compile()\n",
    "        self.d_optimizer = d_optimizer\n",
    "        self.g_optimizer = g_optimizer\n",
    "        self.loss_fn = loss_fn\n",
    "\n",
    "    def train_step(self, data):\n",
    "        # Unpack the data.\n",
    "        real_images, one_hot_labels = data\n",
    "\n",
    "        # Add dummy dimensions to the labels so that they can be concatenated with\n",
    "        # the images. This is for the discriminator.\n",
    "        image_one_hot_labels = one_hot_labels[:, :, None, None]\n",
    "        image_one_hot_labels = tf.repeat(\n",
    "            image_one_hot_labels, repeats=[image_size * image_size]\n",
    "        )\n",
    "        image_one_hot_labels = tf.reshape(\n",
    "            image_one_hot_labels, (-1, image_size, image_size, num_classes)\n",
    "        )\n",
    "\n",
    "        # Sample random points in the latent space and concatenate the labels.\n",
    "        # This is for the generator.\n",
    "        batch_size = tf.shape(real_images)[0]\n",
    "        random_latent_vectors = tf.random.normal(shape=(batch_size, self.latent_dim))\n",
    "        random_vector_labels = tf.concat(\n",
    "            [random_latent_vectors, one_hot_labels], axis=1\n",
    "        )\n",
    "\n",
    "        # Decode the noise (guided by labels) to fake images.\n",
    "        generated_images = self.generator(random_vector_labels)\n",
    "\n",
    "        # Combine them with real images. Note that we are concatenating the labels\n",
    "        # with these images here.\n",
    "        fake_image_and_labels = tf.concat([generated_images, image_one_hot_labels], -1)\n",
    "        real_image_and_labels = tf.concat([real_images, image_one_hot_labels], -1)\n",
    "        combined_images = tf.concat(\n",
    "            [fake_image_and_labels, real_image_and_labels], axis=0\n",
    "        )\n",
    "\n",
    "        # Assemble labels discriminating real from fake images.\n",
    "        labels = tf.concat(\n",
    "            [tf.ones((batch_size, 1)), tf.zeros((batch_size, 1))], axis=0\n",
    "        )\n",
    "\n",
    "        # Train the discriminator.\n",
    "        with tf.GradientTape() as tape:\n",
    "            predictions = self.discriminator(combined_images)\n",
    "            d_loss = self.loss_fn(labels, predictions)\n",
    "        grads = tape.gradient(d_loss, self.discriminator.trainable_weights)\n",
    "        self.d_optimizer.apply_gradients(\n",
    "            zip(grads, self.discriminator.trainable_weights)\n",
    "        )\n",
    "\n",
    "        # Sample random points in the latent space.\n",
    "        random_latent_vectors = tf.random.normal(shape=(batch_size, self.latent_dim))\n",
    "        random_vector_labels = tf.concat(\n",
    "            [random_latent_vectors, one_hot_labels], axis=1\n",
    "        )\n",
    "\n",
    "        # Assemble labels that say \"all real images\".\n",
    "        misleading_labels = tf.zeros((batch_size, 1))\n",
    "\n",
    "        # Train the generator (note that we should *not* update the weights\n",
    "        # of the discriminator)!\n",
    "        with tf.GradientTape() as tape:\n",
    "            fake_images = self.generator(random_vector_labels)\n",
    "            fake_image_and_labels = tf.concat([fake_images, image_one_hot_labels], -1)\n",
    "            predictions = self.discriminator(fake_image_and_labels)\n",
    "            g_loss = self.loss_fn(misleading_labels, predictions)\n",
    "        grads = tape.gradient(g_loss, self.generator.trainable_weights)\n",
    "        self.g_optimizer.apply_gradients(zip(grads, self.generator.trainable_weights))\n",
    "\n",
    "        # Monitor loss.\n",
    "        self.gen_loss_tracker.update_state(g_loss)\n",
    "        self.disc_loss_tracker.update_state(d_loss)\n",
    "        return {\n",
    "            \"g_loss\": self.gen_loss_tracker.result(),\n",
    "            \"d_loss\": self.disc_loss_tracker.result(),\n",
    "        }"
   ]
  },
  {
   "cell_type": "code",
   "execution_count": 8,
   "id": "a1204f9f",
   "metadata": {},
   "outputs": [
    {
     "name": "stdout",
     "output_type": "stream",
     "text": [
      "Epoch 1/20\n"
     ]
    },
    {
     "name": "stderr",
     "output_type": "stream",
     "text": [
      "2023-08-24 02:41:10.006643: I tensorflow/core/common_runtime/executor.cc:1209] [/device:CPU:0] (DEBUG INFO) Executor start aborting (this does not indicate an error and you can ignore this message): INVALID_ARGUMENT: You must feed a value for placeholder tensor 'Placeholder/_1' with dtype float and shape [70000,10]\n",
      "\t [[{{node Placeholder/_1}}]]\n",
      "2023-08-24 02:41:10.006940: I tensorflow/core/common_runtime/executor.cc:1209] [/device:CPU:0] (DEBUG INFO) Executor start aborting (this does not indicate an error and you can ignore this message): INVALID_ARGUMENT: You must feed a value for placeholder tensor 'Placeholder/_1' with dtype float and shape [70000,10]\n",
      "\t [[{{node Placeholder/_1}}]]\n",
      "2023-08-24 02:41:11.340604: I tensorflow/compiler/xla/stream_executor/cuda/cuda_blas.cc:655] TensorFloat-32 will be used for the matrix multiplication. This will only be logged once.\n",
      "2023-08-24 02:41:11.401611: I tensorflow/compiler/xla/stream_executor/cuda/cuda_dnn.cc:424] Loaded cuDNN version 8903\n",
      "2023-08-24 02:41:11.953394: I tensorflow/compiler/xla/service/service.cc:169] XLA service 0x7efb853ca1a0 initialized for platform CUDA (this does not guarantee that XLA will be used). Devices:\n",
      "2023-08-24 02:41:11.953450: I tensorflow/compiler/xla/service/service.cc:177]   StreamExecutor device (0): NVIDIA A100-SXM4-40GB, Compute Capability 8.0\n",
      "2023-08-24 02:41:11.958273: I tensorflow/compiler/mlir/tensorflow/utils/dump_mlir_util.cc:269] disabling MLIR crash reproducer, set env var `MLIR_CRASH_REPRODUCER_DIRECTORY` to enable.\n",
      "2023-08-24 02:41:12.043301: I tensorflow/tsl/platform/default/subprocess.cc:304] Start cannot spawn child process: No such file or directory\n",
      "2023-08-24 02:41:12.108201: I ./tensorflow/compiler/jit/device_compiler.h:180] Compiled cluster using XLA!  This line is logged at most once for the lifetime of the process.\n"
     ]
    },
    {
     "name": "stdout",
     "output_type": "stream",
     "text": [
      "1094/1094 [==============================] - 12s 7ms/step - g_loss: 1.6297 - d_loss: 0.4200\n",
      "Epoch 2/20\n",
      "1094/1094 [==============================] - 7s 6ms/step - g_loss: 1.4231 - d_loss: 0.4680\n",
      "Epoch 3/20\n",
      "1094/1094 [==============================] - 7s 6ms/step - g_loss: 1.6681 - d_loss: 0.3825\n",
      "Epoch 4/20\n",
      "1094/1094 [==============================] - 7s 6ms/step - g_loss: 2.2523 - d_loss: 0.2190\n",
      "Epoch 5/20\n",
      "1094/1094 [==============================] - 7s 6ms/step - g_loss: 2.1344 - d_loss: 0.3133\n",
      "Epoch 6/20\n",
      "1094/1094 [==============================] - 7s 6ms/step - g_loss: 1.0552 - d_loss: 0.6248\n",
      "Epoch 7/20\n",
      "1094/1094 [==============================] - 7s 6ms/step - g_loss: 0.9714 - d_loss: 0.6460\n",
      "Epoch 8/20\n",
      "1094/1094 [==============================] - 6s 6ms/step - g_loss: 0.8797 - d_loss: 0.6581\n",
      "Epoch 9/20\n",
      "1094/1094 [==============================] - 7s 6ms/step - g_loss: 0.8085 - d_loss: 0.6804\n",
      "Epoch 10/20\n",
      "1094/1094 [==============================] - 7s 6ms/step - g_loss: 0.7967 - d_loss: 0.6795\n",
      "Epoch 11/20\n",
      "1094/1094 [==============================] - 7s 6ms/step - g_loss: 0.7625 - d_loss: 0.6866\n",
      "Epoch 12/20\n",
      "1094/1094 [==============================] - 7s 6ms/step - g_loss: 0.7862 - d_loss: 0.6771\n",
      "Epoch 13/20\n",
      "1094/1094 [==============================] - 7s 6ms/step - g_loss: 0.7729 - d_loss: 0.6781\n",
      "Epoch 14/20\n",
      "1094/1094 [==============================] - 7s 6ms/step - g_loss: 0.7473 - d_loss: 0.6858\n",
      "Epoch 15/20\n",
      "1094/1094 [==============================] - 7s 6ms/step - g_loss: 0.7572 - d_loss: 0.6816\n",
      "Epoch 16/20\n",
      "1094/1094 [==============================] - 7s 6ms/step - g_loss: 0.7556 - d_loss: 0.6782\n",
      "Epoch 17/20\n",
      "1094/1094 [==============================] - 7s 6ms/step - g_loss: 0.7651 - d_loss: 0.6741\n",
      "Epoch 18/20\n",
      "1094/1094 [==============================] - 7s 6ms/step - g_loss: 0.7914 - d_loss: 0.6612\n",
      "Epoch 19/20\n",
      "1094/1094 [==============================] - 7s 6ms/step - g_loss: 0.7794 - d_loss: 0.6670\n",
      "Epoch 20/20\n",
      "1094/1094 [==============================] - 7s 6ms/step - g_loss: 0.7796 - d_loss: 0.6669\n"
     ]
    },
    {
     "data": {
      "text/plain": [
       "<keras.callbacks.History at 0x7f052562d0f0>"
      ]
     },
     "execution_count": 8,
     "metadata": {},
     "output_type": "execute_result"
    }
   ],
   "source": [
    "cond_gan = ConditionalGAN(\n",
    "    discriminator=discriminator, generator=generator, latent_dim=latent_dim\n",
    ")\n",
    "cond_gan.compile(\n",
    "    d_optimizer=keras.optimizers.Adam(learning_rate=0.0003),\n",
    "    g_optimizer=keras.optimizers.Adam(learning_rate=0.0003),\n",
    "    loss_fn=keras.losses.BinaryCrossentropy(from_logits=True),\n",
    ")\n",
    "\n",
    "cond_gan.fit(dataset, epochs=20)"
   ]
  },
  {
   "cell_type": "code",
   "execution_count": 46,
   "id": "3ca8eb7b",
   "metadata": {},
   "outputs": [],
   "source": [
    "# We first extract the trained generator from our Conditional GAN.\n",
    "trained_gen = cond_gan.generator\n",
    "\n",
    "# Choose the number of intermediate images that would be generated in\n",
    "# between the interpolation + 2 (start and last images).\n",
    "num_interpolation = 9  # @param {type:\"integer\"}\n",
    "\n",
    "# Sample noise for the interpolation.\n",
    "interpolation_noise = tf.random.normal(shape=(1, latent_dim))\n",
    "interpolation_noise = tf.repeat(interpolation_noise, repeats=num_interpolation)\n",
    "interpolation_noise = tf.reshape(interpolation_noise, (num_interpolation, latent_dim))\n",
    "\n",
    "\n",
    "def interpolate_class(first_number, second_number):\n",
    "    # Convert the start and end labels to one-hot encoded vectors.\n",
    "    first_label = keras.utils.to_categorical([first_number], num_classes)\n",
    "    second_label = keras.utils.to_categorical([second_number], num_classes)\n",
    "    first_label = tf.cast(first_label, tf.float32)\n",
    "    second_label = tf.cast(second_label, tf.float32)\n",
    "\n",
    "    # Calculate the interpolation vector between the two labels.\n",
    "    percent_second_label = tf.linspace(0, 1, num_interpolation)[:, None]\n",
    "    percent_second_label = tf.cast(percent_second_label, tf.float32)\n",
    "    interpolation_labels = (\n",
    "        first_label * (1 - percent_second_label) + second_label * percent_second_label\n",
    "    )\n",
    "\n",
    "    # Combine the noise and the labels and run inference with the generator.\n",
    "    noise_and_labels = tf.concat([interpolation_noise, interpolation_labels], 1)\n",
    "    fake = trained_gen.predict(noise_and_labels)\n",
    "    return fake\n",
    "\n",
    "\n",
    "start_class = 1  # @param {type:\"slider\", min:0, max:9, step:1}\n",
    "end_class = 5  # @param {type:\"slider\", min:0, max:9, step:1}\n",
    "\n",
    "fake_images = interpolate_class(start_class, end_class)"
   ]
  },
  {
   "cell_type": "code",
   "execution_count": 57,
   "id": "fabdc0d7",
   "metadata": {},
   "outputs": [],
   "source": [
    "fake_images *= 255.0\n",
    "converted_images = fake_images.astype(np.uint8)\n",
    "converted_images = tf.image.resize(converted_images, (96, 96)).numpy().astype(np.uint8)"
   ]
  },
  {
   "cell_type": "code",
   "execution_count": 56,
   "id": "5d9d9319",
   "metadata": {},
   "outputs": [
    {
     "data": {
      "text/plain": [
       "<matplotlib.image.AxesImage at 0x7f03b0564a00>"
      ]
     },
     "execution_count": 56,
     "metadata": {},
     "output_type": "execute_result"
    },
    {
     "data": {
      "image/png": "[encoded data removed]",
      "text/plain": [
       "<Figure size 640x480 with 5 Axes>"
      ]
     },
     "metadata": {},
     "output_type": "display_data"
    }
   ],
   "source": [
    "import matplotlib.pyplot as plt\n",
    "# plt.axis(\"off\")\n",
    "# plt.imshow((converted_images).astype(\"int32\")[0])\n",
    "# plt.imshow((converted_images).astype(\"int32\")[1])\n",
    "# plt.imshow((converted_images).astype(\"int32\")[2])\n",
    "# plt.imshow((converted_images).astype(\"int32\")[3])\n",
    "# plt.imshow((converted_images).astype(\"int32\")[4])\n",
    "\n",
    "# plt.figure()\n",
    "\n",
    "#subplot(r,c) provide the no. of rows and columns\n",
    "f, axarr = plt.subplots(1,5) \n",
    "\n",
    "# use the created array to output your multiple images. In this case I have stacked 4 images vertically\n",
    "axarr[0].imshow((converted_images).astype(\"int32\")[0])\n",
    "axarr[1].imshow((converted_images).astype(\"int32\")[1])\n",
    "axarr[2].imshow((converted_images).astype(\"int32\")[2])\n",
    "axarr[3].imshow((converted_images).astype(\"int32\")[3])\n",
    "axarr[4].imshow((converted_images).astype(\"int32\")[4])"
   ]
  },
  {
   "cell_type": "code",
   "execution_count": 58,
   "id": "78ef1714",
   "metadata": {},
   "outputs": [
    {
     "data": {
      "text/html": [
       "<img src=\"data:image/gif;base64,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\"/>"
      ],
      "text/plain": [
       "<IPython.core.display.HTML object>"
      ]
     },
     "execution_count": 58,
     "metadata": {},
     "output_type": "execute_result"
    }
   ],
   "source": [
    "# imageio.mimsave(\"animation.gif\", converted_images, fps=1)\n",
    "neo_conv_images = np.squeeze(converted_images, axis=3)\n",
    "imageio.mimwrite(\"animation.gif\", neo_conv_images, \"gif\", duration=converted_images.shape[0])\n",
    "\n",
    "embed.embed_file(\"animation.gif\")"
   ]
  },
  {
   "cell_type": "code",
   "execution_count": null,
   "id": "e9e4be29",
   "metadata": {},
   "outputs": [],
   "source": []
  }
 ],
 "metadata": {
  "kernelspec": {
   "display_name": "Python 3 (ipykernel)",
   "language": "python",
   "name": "python3"
  },
  "language_info": {
   "codemirror_mode": {
    "name": "ipython",
    "version": 3
   },
   "file_extension": ".py",
   "mimetype": "text/x-python",
   "name": "python",
   "nbconvert_exporter": "python",
   "pygments_lexer": "ipython3",
   "version": "3.10.6"
  }
 },
 "nbformat": 4,
 "nbformat_minor": 5
}
