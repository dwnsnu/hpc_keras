{
 "cells": [
  {
   "cell_type": "markdown",
   "id": "1814a5d0",
   "metadata": {},
   "source": [
    "#### https://keras.io/examples/vision/mixup/"
   ]
  },
  {
   "cell_type": "code",
   "execution_count": 1,
   "id": "cbf43ddd",
   "metadata": {},
   "outputs": [
    {
     "name": "stderr",
     "output_type": "stream",
     "text": [
      "2023-08-22 05:26:41.315860: I tensorflow/core/platform/cpu_feature_guard.cc:183] This TensorFlow binary is optimized to use available CPU instructions in performance-critical operations.\n",
      "To enable the following instructions: SSE3 SSE4.1 SSE4.2 AVX, in other operations, rebuild TensorFlow with the appropriate compiler flags.\n"
     ]
    }
   ],
   "source": [
    "import numpy as np\n",
    "import tensorflow as tf\n",
    "import matplotlib.pyplot as plt\n",
    "from tensorflow.keras import layers"
   ]
  },
  {
   "cell_type": "code",
   "execution_count": 2,
   "id": "2f473658",
   "metadata": {},
   "outputs": [
    {
     "name": "stderr",
     "output_type": "stream",
     "text": [
      "2023-08-22 05:26:44.000735: I tensorflow/core/common_runtime/gpu/gpu_device.cc:1638] Created device /job:localhost/replica:0/task:0/device:GPU:0 with 38319 MB memory:  -> device: 0, name: NVIDIA A100-SXM4-40GB, pci bus id: 0000:0f:00.0, compute capability: 8.0\n"
     ]
    }
   ],
   "source": [
    "(x_train, y_train), (x_test, y_test) = tf.keras.datasets.fashion_mnist.load_data()\n",
    "\n",
    "x_train = x_train.astype(\"float32\") / 255.0\n",
    "x_train = np.reshape(x_train, (-1, 28, 28, 1))\n",
    "y_train = tf.one_hot(y_train, 10)\n",
    "\n",
    "x_test = x_test.astype(\"float32\") / 255.0\n",
    "x_test = np.reshape(x_test, (-1, 28, 28, 1))\n",
    "y_test = tf.one_hot(y_test, 10)"
   ]
  },
  {
   "cell_type": "code",
   "execution_count": 3,
   "id": "9972b5e5",
   "metadata": {},
   "outputs": [],
   "source": [
    "AUTO = tf.data.AUTOTUNE\n",
    "BATCH_SIZE = 64\n",
    "EPOCHS = 10"
   ]
  },
  {
   "cell_type": "code",
   "execution_count": 4,
   "id": "bbad40fe",
   "metadata": {},
   "outputs": [],
   "source": [
    "# Put aside a few samples to create our validation set\n",
    "val_samples = 2000\n",
    "x_val, y_val = x_train[:val_samples], y_train[:val_samples]\n",
    "new_x_train, new_y_train = x_train[val_samples:], y_train[val_samples:]\n",
    "\n",
    "train_ds_one = (\n",
    "    tf.data.Dataset.from_tensor_slices((new_x_train, new_y_train))\n",
    "    .shuffle(BATCH_SIZE * 100)\n",
    "    .batch(BATCH_SIZE)\n",
    ")\n",
    "train_ds_two = (\n",
    "    tf.data.Dataset.from_tensor_slices((new_x_train, new_y_train))\n",
    "    .shuffle(BATCH_SIZE * 100)\n",
    "    .batch(BATCH_SIZE)\n",
    ")\n",
    "# Because we will be mixing up the images and their corresponding labels, we will be\n",
    "# combining two shuffled datasets from the same training data.\n",
    "train_ds = tf.data.Dataset.zip((train_ds_one, train_ds_two))\n",
    "\n",
    "val_ds = tf.data.Dataset.from_tensor_slices((x_val, y_val)).batch(BATCH_SIZE)\n",
    "\n",
    "test_ds = tf.data.Dataset.from_tensor_slices((x_test, y_test)).batch(BATCH_SIZE)"
   ]
  },
  {
   "cell_type": "code",
   "execution_count": 5,
   "id": "23167a37",
   "metadata": {},
   "outputs": [],
   "source": [
    "\n",
    "def sample_beta_distribution(size, concentration_0=0.2, concentration_1=0.2):\n",
    "    gamma_1_sample = tf.random.gamma(shape=[size], alpha=concentration_1)\n",
    "    gamma_2_sample = tf.random.gamma(shape=[size], alpha=concentration_0)\n",
    "    return gamma_1_sample / (gamma_1_sample + gamma_2_sample)\n",
    "\n",
    "\n",
    "def mix_up(ds_one, ds_two, alpha=0.2):\n",
    "    # Unpack two datasets\n",
    "    images_one, labels_one = ds_one\n",
    "    images_two, labels_two = ds_two\n",
    "    batch_size = tf.shape(images_one)[0]\n",
    "\n",
    "    # Sample lambda and reshape it to do the mixup\n",
    "    l = sample_beta_distribution(batch_size, alpha, alpha)\n",
    "    x_l = tf.reshape(l, (batch_size, 1, 1, 1))\n",
    "    y_l = tf.reshape(l, (batch_size, 1))\n",
    "\n",
    "    # Perform mixup on both images and labels by combining a pair of images/labels\n",
    "    # (one from each dataset) into one image/label\n",
    "    images = images_one * x_l + images_two * (1 - x_l)\n",
    "    labels = labels_one * y_l + labels_two * (1 - y_l)\n",
    "    return (images, labels)\n"
   ]
  },
  {
   "cell_type": "code",
   "execution_count": 10,
   "id": "9cb21772",
   "metadata": {},
   "outputs": [
    {
     "name": "stderr",
     "output_type": "stream",
     "text": [
      "2023-08-22 05:37:49.073817: I tensorflow/core/common_runtime/executor.cc:1209] [/device:CPU:0] (DEBUG INFO) Executor start aborting (this does not indicate an error and you can ignore this message): INVALID_ARGUMENT: You must feed a value for placeholder tensor 'Placeholder/_12' with dtype float and shape [58000,10]\n",
      "\t [[{{node Placeholder/_12}}]]\n",
      "2023-08-22 05:37:49.074209: I tensorflow/core/common_runtime/executor.cc:1209] [/device:CPU:0] (DEBUG INFO) Executor start aborting (this does not indicate an error and you can ignore this message): INVALID_ARGUMENT: You must feed a value for placeholder tensor 'Placeholder/_11' with dtype float and shape [58000,28,28,1]\n",
      "\t [[{{node Placeholder/_11}}]]\n"
     ]
    },
    {
     "name": "stdout",
     "output_type": "stream",
     "text": [
      "[1.0, 0.0, 0.0, 0.0, 0.0, 0.0, 0.0, 0.0, 0.0, 0.0]\n",
      "[0.0, 0.0, 0.4862573444843292, 0.0, 0.0, 0.0, 0.0, 0.0, 0.0, 0.5137426853179932]\n",
      "[0.0, 0.0, 1.0, 0.0, 0.0, 0.0, 0.0, 0.0, 0.0, 0.0]\n",
      "[0.0, 0.0, 0.0, 0.04906576871871948, 0.0, 0.0, 0.0, 0.0, 0.0, 0.9509342312812805]\n",
      "[0.0, 0.0, 0.3829231560230255, 0.0, 0.0, 0.0, 0.6170768737792969, 0.0, 0.0, 0.0]\n",
      "[0.0, 1.0, 0.0, 0.0, 0.0, 0.0, 0.0, 0.0, 0.0, 7.644960359209918e-11]\n",
      "[0.0, 0.21782980859279633, 0.0, 0.0, 0.0, 0.0, 0.7821701765060425, 0.0, 0.0, 0.0]\n",
      "[0.0, 0.0, 0.0, 0.0, 0.0, 0.0, 1.0, 0.0, 0.0, 0.0]\n",
      "[0.0, 0.0, 0.9983343482017517, 0.001665651798248291, 0.0, 0.0, 0.0, 0.0, 0.0, 0.0]\n"
     ]
    },
    {
     "data": {
      "image/png": "[encoded data removed]",
      "text/plain": [
       "<Figure size 1000x1000 with 9 Axes>"
      ]
     },
     "metadata": {},
     "output_type": "display_data"
    }
   ],
   "source": [
    "# First create the new dataset using our `mix_up` utility\n",
    "train_ds_mu = train_ds.map(\n",
    "    lambda ds_one, ds_two: mix_up(ds_one, ds_two, alpha=0.2), num_parallel_calls=AUTO\n",
    ")\n",
    "\n",
    "# Let's preview 9 samples from the dataset\n",
    "sample_images, sample_labels = next(iter(train_ds_mu))\n",
    "plt.figure(figsize=(10, 10))\n",
    "for i, (image, label) in enumerate(zip(sample_images[:9], sample_labels[:9])):\n",
    "    ax = plt.subplot(3, 3, i + 1)\n",
    "    plt.imshow(image.numpy().squeeze(), cmap='gray')\n",
    "    print(label.numpy().tolist())\n",
    "    plt.axis(\"off\")"
   ]
  },
  {
   "cell_type": "code",
   "execution_count": 7,
   "id": "eebd2e12",
   "metadata": {},
   "outputs": [],
   "source": [
    "\n",
    "def get_training_model():\n",
    "    model = tf.keras.Sequential(\n",
    "        [\n",
    "            layers.Conv2D(16, (5, 5), activation=\"relu\", input_shape=(28, 28, 1)),\n",
    "            layers.MaxPooling2D(pool_size=(2, 2)),\n",
    "            layers.Conv2D(32, (5, 5), activation=\"relu\"),\n",
    "            layers.MaxPooling2D(pool_size=(2, 2)),\n",
    "            layers.Dropout(0.2),\n",
    "            layers.GlobalAvgPool2D(),\n",
    "            layers.Dense(128, activation=\"relu\"),\n",
    "            layers.Dense(10, activation=\"softmax\"),\n",
    "        ]\n",
    "    )\n",
    "    return model\n"
   ]
  },
  {
   "cell_type": "code",
   "execution_count": 8,
   "id": "ca5ec598",
   "metadata": {},
   "outputs": [],
   "source": [
    "initial_model = get_training_model()\n",
    "initial_model.save_weights(\"initial_weights.h5\")"
   ]
  },
  {
   "cell_type": "code",
   "execution_count": 9,
   "id": "2c48db61",
   "metadata": {
    "scrolled": true
   },
   "outputs": [
    {
     "name": "stdout",
     "output_type": "stream",
     "text": [
      "Epoch 1/10\n"
     ]
    },
    {
     "name": "stderr",
     "output_type": "stream",
     "text": [
      "2023-08-22 05:24:23.287256: E tensorflow/core/grappler/optimizers/meta_optimizer.cc:1014] layout failed: INVALID_ARGUMENT: Size of values 0 does not match size of permutation 4 @ fanin shape insequential_1/dropout_1/dropout/SelectV2-2-TransposeNHWCToNCHW-LayoutOptimizer\n",
      "2023-08-22 05:24:23.429716: I tensorflow/compiler/xla/stream_executor/cuda/cuda_dnn.cc:424] Loaded cuDNN version 8903\n",
      "2023-08-22 05:24:23.636986: I tensorflow/compiler/xla/stream_executor/cuda/cuda_blas.cc:655] TensorFloat-32 will be used for the matrix multiplication. This will only be logged once.\n",
      "2023-08-22 05:24:23.670326: I tensorflow/compiler/xla/service/service.cc:169] XLA service 0x55ffd6ad7430 initialized for platform CUDA (this does not guarantee that XLA will be used). Devices:\n",
      "2023-08-22 05:24:23.670372: I tensorflow/compiler/xla/service/service.cc:177]   StreamExecutor device (0): NVIDIA A100-SXM4-40GB, Compute Capability 8.0\n",
      "2023-08-22 05:24:23.675660: I tensorflow/compiler/mlir/tensorflow/utils/dump_mlir_util.cc:269] disabling MLIR crash reproducer, set env var `MLIR_CRASH_REPRODUCER_DIRECTORY` to enable.\n",
      "2023-08-22 05:24:23.748298: I tensorflow/tsl/platform/default/subprocess.cc:304] Start cannot spawn child process: No such file or directory\n",
      "2023-08-22 05:24:23.813982: I ./tensorflow/compiler/jit/device_compiler.h:180] Compiled cluster using XLA!  This line is logged at most once for the lifetime of the process.\n"
     ]
    },
    {
     "name": "stdout",
     "output_type": "stream",
     "text": [
      "907/907 [==============================] - ETA: 0s - loss: 1.1885 - accuracy: 0.6261"
     ]
    },
    {
     "name": "stderr",
     "output_type": "stream",
     "text": [
      "2023-08-22 05:24:27.194879: I tensorflow/core/common_runtime/executor.cc:1209] [/device:CPU:0] (DEBUG INFO) Executor start aborting (this does not indicate an error and you can ignore this message): INVALID_ARGUMENT: You must feed a value for placeholder tensor 'Placeholder/_1' with dtype float and shape [2000,10]\n",
      "\t [[{{node Placeholder/_1}}]]\n"
     ]
    },
    {
     "name": "stdout",
     "output_type": "stream",
     "text": [
      "907/907 [==============================] - 5s 3ms/step - loss: 1.1885 - accuracy: 0.6261 - val_loss: 0.6867 - val_accuracy: 0.7505\n",
      "Epoch 2/10\n",
      "907/907 [==============================] - 2s 3ms/step - loss: 0.9497 - accuracy: 0.7219 - val_loss: 0.5626 - val_accuracy: 0.8000\n",
      "Epoch 3/10\n",
      "907/907 [==============================] - 2s 3ms/step - loss: 0.8643 - accuracy: 0.7652 - val_loss: 0.4863 - val_accuracy: 0.8305\n",
      "Epoch 4/10\n",
      "907/907 [==============================] - 2s 3ms/step - loss: 0.8090 - accuracy: 0.7873 - val_loss: 0.4466 - val_accuracy: 0.8470\n",
      "Epoch 5/10\n",
      "907/907 [==============================] - 2s 2ms/step - loss: 0.7681 - accuracy: 0.8015 - val_loss: 0.4209 - val_accuracy: 0.8515\n",
      "Epoch 6/10\n",
      "907/907 [==============================] - 2s 3ms/step - loss: 0.7428 - accuracy: 0.8084 - val_loss: 0.4088 - val_accuracy: 0.8550\n",
      "Epoch 7/10\n",
      "907/907 [==============================] - 2s 3ms/step - loss: 0.7278 - accuracy: 0.8121 - val_loss: 0.3919 - val_accuracy: 0.8575\n",
      "Epoch 8/10\n",
      "907/907 [==============================] - 2s 3ms/step - loss: 0.7080 - accuracy: 0.8205 - val_loss: 0.3730 - val_accuracy: 0.8675\n",
      "Epoch 9/10\n",
      "907/907 [==============================] - 2s 3ms/step - loss: 0.6922 - accuracy: 0.8255 - val_loss: 0.3642 - val_accuracy: 0.8725\n",
      "Epoch 10/10\n",
      "907/907 [==============================] - 2s 2ms/step - loss: 0.6860 - accuracy: 0.8272 - val_loss: 0.3648 - val_accuracy: 0.8710\n",
      " 85/157 [===============>..............] - ETA: 0s - loss: 0.3902 - accuracy: 0.8665"
     ]
    },
    {
     "name": "stderr",
     "output_type": "stream",
     "text": [
      "2023-08-22 05:24:48.882099: I tensorflow/core/common_runtime/executor.cc:1209] [/device:CPU:0] (DEBUG INFO) Executor start aborting (this does not indicate an error and you can ignore this message): INVALID_ARGUMENT: You must feed a value for placeholder tensor 'Placeholder/_1' with dtype float and shape [10000,10]\n",
      "\t [[{{node Placeholder/_1}}]]\n"
     ]
    },
    {
     "name": "stdout",
     "output_type": "stream",
     "text": [
      "157/157 [==============================] - 0s 1ms/step - loss: 0.3882 - accuracy: 0.8646\n",
      "Test accuracy: 86.46%\n"
     ]
    }
   ],
   "source": [
    "model = get_training_model()\n",
    "model.load_weights(\"initial_weights.h5\")\n",
    "model.compile(loss=\"categorical_crossentropy\", optimizer=\"adam\", metrics=[\"accuracy\"])\n",
    "model.fit(train_ds_mu, validation_data=val_ds, epochs=EPOCHS)\n",
    "_, test_acc = model.evaluate(test_ds)\n",
    "print(\"Test accuracy: {:.2f}%\".format(test_acc * 100))"
   ]
  },
  {
   "cell_type": "code",
   "execution_count": 9,
   "id": "03f9119d",
   "metadata": {},
   "outputs": [
    {
     "name": "stdout",
     "output_type": "stream",
     "text": [
      "Epoch 1/10\n"
     ]
    },
    {
     "name": "stderr",
     "output_type": "stream",
     "text": [
      "2023-08-22 05:27:15.386635: I tensorflow/core/common_runtime/executor.cc:1209] [/device:CPU:0] (DEBUG INFO) Executor start aborting (this does not indicate an error and you can ignore this message): INVALID_ARGUMENT: You must feed a value for placeholder tensor 'Placeholder/_0' with dtype float and shape [58000,28,28,1]\n",
      "\t [[{{node Placeholder/_0}}]]\n",
      "2023-08-22 05:27:15.386943: I tensorflow/core/common_runtime/executor.cc:1209] [/device:CPU:0] (DEBUG INFO) Executor start aborting (this does not indicate an error and you can ignore this message): INVALID_ARGUMENT: You must feed a value for placeholder tensor 'Placeholder/_1' with dtype float and shape [58000,10]\n",
      "\t [[{{node Placeholder/_1}}]]\n",
      "2023-08-22 05:27:16.043628: E tensorflow/core/grappler/optimizers/meta_optimizer.cc:1014] layout failed: INVALID_ARGUMENT: Size of values 0 does not match size of permutation 4 @ fanin shape insequential_1/dropout_1/dropout/SelectV2-2-TransposeNHWCToNCHW-LayoutOptimizer\n",
      "2023-08-22 05:27:16.155834: I tensorflow/compiler/xla/stream_executor/cuda/cuda_dnn.cc:424] Loaded cuDNN version 8903\n",
      "2023-08-22 05:27:16.337394: I tensorflow/compiler/xla/stream_executor/cuda/cuda_blas.cc:655] TensorFloat-32 will be used for the matrix multiplication. This will only be logged once.\n",
      "2023-08-22 05:27:16.370435: I tensorflow/compiler/xla/service/service.cc:169] XLA service 0x55a11d9fa6f0 initialized for platform CUDA (this does not guarantee that XLA will be used). Devices:\n",
      "2023-08-22 05:27:16.370487: I tensorflow/compiler/xla/service/service.cc:177]   StreamExecutor device (0): NVIDIA A100-SXM4-40GB, Compute Capability 8.0\n",
      "2023-08-22 05:27:16.376121: I tensorflow/compiler/mlir/tensorflow/utils/dump_mlir_util.cc:269] disabling MLIR crash reproducer, set env var `MLIR_CRASH_REPRODUCER_DIRECTORY` to enable.\n",
      "2023-08-22 05:27:16.447551: I tensorflow/tsl/platform/default/subprocess.cc:304] Start cannot spawn child process: No such file or directory\n",
      "2023-08-22 05:27:16.509211: I ./tensorflow/compiler/jit/device_compiler.h:180] Compiled cluster using XLA!  This line is logged at most once for the lifetime of the process.\n"
     ]
    },
    {
     "name": "stdout",
     "output_type": "stream",
     "text": [
      "907/907 [==============================] - ETA: 0s - loss: 0.8767 - accuracy: 0.6745"
     ]
    },
    {
     "name": "stderr",
     "output_type": "stream",
     "text": [
      "2023-08-22 05:27:19.672497: I tensorflow/core/common_runtime/executor.cc:1209] [/device:CPU:0] (DEBUG INFO) Executor start aborting (this does not indicate an error and you can ignore this message): INVALID_ARGUMENT: You must feed a value for placeholder tensor 'Placeholder/_1' with dtype float and shape [2000,10]\n",
      "\t [[{{node Placeholder/_1}}]]\n"
     ]
    },
    {
     "name": "stdout",
     "output_type": "stream",
     "text": [
      "907/907 [==============================] - 4s 3ms/step - loss: 0.8767 - accuracy: 0.6745 - val_loss: 0.6332 - val_accuracy: 0.7675\n",
      "Epoch 2/10\n",
      "907/907 [==============================] - 2s 2ms/step - loss: 0.6116 - accuracy: 0.7688 - val_loss: 0.5261 - val_accuracy: 0.8115\n",
      "Epoch 3/10\n",
      "907/907 [==============================] - 2s 2ms/step - loss: 0.5219 - accuracy: 0.8097 - val_loss: 0.4571 - val_accuracy: 0.8375\n",
      "Epoch 4/10\n",
      "907/907 [==============================] - 2s 2ms/step - loss: 0.4666 - accuracy: 0.8298 - val_loss: 0.4237 - val_accuracy: 0.8455\n",
      "Epoch 5/10\n",
      "907/907 [==============================] - 2s 3ms/step - loss: 0.4328 - accuracy: 0.8446 - val_loss: 0.3809 - val_accuracy: 0.8690\n",
      "Epoch 6/10\n",
      "907/907 [==============================] - 2s 2ms/step - loss: 0.4037 - accuracy: 0.8528 - val_loss: 0.3676 - val_accuracy: 0.8635\n",
      "Epoch 7/10\n",
      "907/907 [==============================] - 2s 2ms/step - loss: 0.3825 - accuracy: 0.8615 - val_loss: 0.3470 - val_accuracy: 0.8780\n",
      "Epoch 8/10\n",
      "907/907 [==============================] - 2s 2ms/step - loss: 0.3667 - accuracy: 0.8662 - val_loss: 0.3427 - val_accuracy: 0.8745\n",
      "Epoch 9/10\n",
      "907/907 [==============================] - 2s 2ms/step - loss: 0.3538 - accuracy: 0.8707 - val_loss: 0.3280 - val_accuracy: 0.8830\n",
      "Epoch 10/10\n",
      "907/907 [==============================] - 2s 2ms/step - loss: 0.3419 - accuracy: 0.8753 - val_loss: 0.3228 - val_accuracy: 0.8830\n",
      " 82/157 [==============>...............] - ETA: 0s - loss: 0.3445 - accuracy: 0.8792"
     ]
    },
    {
     "name": "stderr",
     "output_type": "stream",
     "text": [
      "2023-08-22 05:27:40.052966: I tensorflow/core/common_runtime/executor.cc:1209] [/device:CPU:0] (DEBUG INFO) Executor start aborting (this does not indicate an error and you can ignore this message): INVALID_ARGUMENT: You must feed a value for placeholder tensor 'Placeholder/_1' with dtype float and shape [10000,10]\n",
      "\t [[{{node Placeholder/_1}}]]\n"
     ]
    },
    {
     "name": "stdout",
     "output_type": "stream",
     "text": [
      "157/157 [==============================] - 0s 1ms/step - loss: 0.3409 - accuracy: 0.8770\n",
      "Test accuracy: 87.70%\n"
     ]
    }
   ],
   "source": [
    "model = get_training_model()\n",
    "model.load_weights(\"initial_weights.h5\")\n",
    "model.compile(loss=\"categorical_crossentropy\", optimizer=\"adam\", metrics=[\"accuracy\"])\n",
    "# Notice that we are NOT using the mixed up dataset here\n",
    "model.fit(train_ds_one, validation_data=val_ds, epochs=EPOCHS)\n",
    "_, test_acc = model.evaluate(test_ds)\n",
    "print(\"Test accuracy: {:.2f}%\".format(test_acc * 100))"
   ]
  },
  {
   "cell_type": "code",
   "execution_count": null,
   "id": "e404d88b",
   "metadata": {},
   "outputs": [],
   "source": []
  }
 ],
 "metadata": {
  "kernelspec": {
   "display_name": "Python 3 (ipykernel)",
   "language": "python",
   "name": "python3"
  },
  "language_info": {
   "codemirror_mode": {
    "name": "ipython",
    "version": 3
   },
   "file_extension": ".py",
   "mimetype": "text/x-python",
   "name": "python",
   "nbconvert_exporter": "python",
   "pygments_lexer": "ipython3",
   "version": "3.10.6"
  }
 },
 "nbformat": 4,
 "nbformat_minor": 5
}
